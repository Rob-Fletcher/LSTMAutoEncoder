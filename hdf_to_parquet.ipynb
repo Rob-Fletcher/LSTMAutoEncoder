{
 "cells": [
  {
   "cell_type": "code",
   "execution_count": 1,
   "metadata": {},
   "outputs": [],
   "source": [
    "import pandas as pd\n",
    "from pyspark import SparkContext, SparkConf\n",
    "from pyspark.sql import SQLContext"
   ]
  },
  {
   "cell_type": "code",
   "execution_count": 2,
   "metadata": {},
   "outputs": [],
   "source": [
    "h = pd.HDFStore('data/data_table.h5')"
   ]
  },
  {
   "cell_type": "code",
   "execution_count": 3,
   "metadata": {},
   "outputs": [],
   "source": [
    "df = pd.DataFrame.from_records(h.root.detections[:])"
   ]
  },
  {
   "cell_type": "code",
   "execution_count": 4,
   "metadata": {},
   "outputs": [
    {
     "data": {
      "text/html": [
       "<div>\n",
       "<style scoped>\n",
       "    .dataframe tbody tr th:only-of-type {\n",
       "        vertical-align: middle;\n",
       "    }\n",
       "\n",
       "    .dataframe tbody tr th {\n",
       "        vertical-align: top;\n",
       "    }\n",
       "\n",
       "    .dataframe thead th {\n",
       "        text-align: right;\n",
       "    }\n",
       "</style>\n",
       "<table border=\"1\" class=\"dataframe\">\n",
       "  <thead>\n",
       "    <tr style=\"text-align: right;\">\n",
       "      <th></th>\n",
       "      <th>frame</th>\n",
       "      <th>x1</th>\n",
       "      <th>y1</th>\n",
       "      <th>x2</th>\n",
       "      <th>y2</th>\n",
       "      <th>confidence</th>\n",
       "      <th>class_confidence</th>\n",
       "      <th>class_prediction</th>\n",
       "      <th>ID</th>\n",
       "    </tr>\n",
       "  </thead>\n",
       "  <tbody>\n",
       "    <tr>\n",
       "      <th>0</th>\n",
       "      <td>0.0</td>\n",
       "      <td>-1.351607e+07</td>\n",
       "      <td>4.664396e+06</td>\n",
       "      <td>-1.351607e+07</td>\n",
       "      <td>4.664389e+06</td>\n",
       "      <td>0.502651</td>\n",
       "      <td>0.731626</td>\n",
       "      <td>1.0</td>\n",
       "      <td>73.0</td>\n",
       "    </tr>\n",
       "    <tr>\n",
       "      <th>1</th>\n",
       "      <td>0.0</td>\n",
       "      <td>-1.351607e+07</td>\n",
       "      <td>4.664328e+06</td>\n",
       "      <td>-1.351607e+07</td>\n",
       "      <td>4.664319e+06</td>\n",
       "      <td>0.792350</td>\n",
       "      <td>0.565696</td>\n",
       "      <td>1.0</td>\n",
       "      <td>72.0</td>\n",
       "    </tr>\n",
       "    <tr>\n",
       "      <th>2</th>\n",
       "      <td>0.0</td>\n",
       "      <td>-1.351608e+07</td>\n",
       "      <td>4.664377e+06</td>\n",
       "      <td>-1.351608e+07</td>\n",
       "      <td>4.664369e+06</td>\n",
       "      <td>0.995141</td>\n",
       "      <td>0.535577</td>\n",
       "      <td>0.0</td>\n",
       "      <td>71.0</td>\n",
       "    </tr>\n",
       "    <tr>\n",
       "      <th>3</th>\n",
       "      <td>0.0</td>\n",
       "      <td>-1.351609e+07</td>\n",
       "      <td>4.664366e+06</td>\n",
       "      <td>-1.351610e+07</td>\n",
       "      <td>4.664362e+06</td>\n",
       "      <td>0.958148</td>\n",
       "      <td>0.576074</td>\n",
       "      <td>1.0</td>\n",
       "      <td>70.0</td>\n",
       "    </tr>\n",
       "    <tr>\n",
       "      <th>4</th>\n",
       "      <td>0.0</td>\n",
       "      <td>-1.351609e+07</td>\n",
       "      <td>4.664329e+06</td>\n",
       "      <td>-1.351609e+07</td>\n",
       "      <td>4.664320e+06</td>\n",
       "      <td>0.994552</td>\n",
       "      <td>0.570228</td>\n",
       "      <td>2.0</td>\n",
       "      <td>69.0</td>\n",
       "    </tr>\n",
       "  </tbody>\n",
       "</table>\n",
       "</div>"
      ],
      "text/plain": [
       "   frame            x1            y1            x2            y2  confidence  \\\n",
       "0    0.0 -1.351607e+07  4.664396e+06 -1.351607e+07  4.664389e+06    0.502651   \n",
       "1    0.0 -1.351607e+07  4.664328e+06 -1.351607e+07  4.664319e+06    0.792350   \n",
       "2    0.0 -1.351608e+07  4.664377e+06 -1.351608e+07  4.664369e+06    0.995141   \n",
       "3    0.0 -1.351609e+07  4.664366e+06 -1.351610e+07  4.664362e+06    0.958148   \n",
       "4    0.0 -1.351609e+07  4.664329e+06 -1.351609e+07  4.664320e+06    0.994552   \n",
       "\n",
       "   class_confidence  class_prediction    ID  \n",
       "0          0.731626               1.0  73.0  \n",
       "1          0.565696               1.0  72.0  \n",
       "2          0.535577               0.0  71.0  \n",
       "3          0.576074               1.0  70.0  \n",
       "4          0.570228               2.0  69.0  "
      ]
     },
     "execution_count": 4,
     "metadata": {},
     "output_type": "execute_result"
    }
   ],
   "source": [
    "df.head()"
   ]
  },
  {
   "cell_type": "code",
   "execution_count": 5,
   "metadata": {},
   "outputs": [],
   "source": [
    "spark_conf = (\n",
    "    SparkConf()\n",
    "    .setAppName('SparkRunDemo')\n",
    "    # .setMaster('local[*]')\n",
    "    # .set('spark.driver.memory', '8g')\n",
    "    .set('spark.executor.memory', '8g')\n",
    "    .set('spark.python.worker.memory', '8g')\n",
    "    .set('spark.storage.memoryFraction', 0.2)\n",
    "    .set('spark.logConf', True))"
   ]
  },
  {
   "cell_type": "code",
   "execution_count": 7,
   "metadata": {},
   "outputs": [
    {
     "name": "stdout",
     "output_type": "stream",
     "text": [
      "spark.app.name=SparkRunDemo\n",
      "spark.executor.memory=8g\n",
      "spark.python.worker.memory=8g\n",
      "spark.storage.memoryFraction=0.2\n",
      "spark.logConf=True\n"
     ]
    }
   ],
   "source": [
    "print(spark_conf.toDebugString())"
   ]
  },
  {
   "cell_type": "code",
   "execution_count": 8,
   "metadata": {},
   "outputs": [],
   "source": [
    "sc = SparkContext(conf=spark_conf)\n",
    "sql = SQLContext(sc)"
   ]
  },
  {
   "cell_type": "code",
   "execution_count": 9,
   "metadata": {},
   "outputs": [],
   "source": [
    "df_spark = sql.createDataFrame(df)"
   ]
  },
  {
   "cell_type": "code",
   "execution_count": 10,
   "metadata": {},
   "outputs": [],
   "source": [
    "df_spark.write.parquet('data/data_table.parquet')"
   ]
  },
  {
   "cell_type": "code",
   "execution_count": null,
   "metadata": {},
   "outputs": [],
   "source": []
  }
 ],
 "metadata": {
  "kernelspec": {
   "display_name": "Python 3",
   "language": "python",
   "name": "python3"
  },
  "language_info": {
   "codemirror_mode": {
    "name": "ipython",
    "version": 3
   },
   "file_extension": ".py",
   "mimetype": "text/x-python",
   "name": "python",
   "nbconvert_exporter": "python",
   "pygments_lexer": "ipython3",
   "version": "3.7.3"
  }
 },
 "nbformat": 4,
 "nbformat_minor": 4
}
